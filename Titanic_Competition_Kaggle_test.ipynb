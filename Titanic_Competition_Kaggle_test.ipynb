{
 "cells": [
  {
   "cell_type": "markdown",
   "id": "0d1b3462-a59c-48cc-86b5-9a37261c4247",
   "metadata": {},
   "source": [
    "## Test Data Set"
   ]
  },
  {
   "cell_type": "markdown",
   "id": "85ea58fa-d9bd-4a6d-b2ff-835342169f2e",
   "metadata": {},
   "source": [
    "## Working with test.csv to test the model build with train.csv"
   ]
  },
  {
   "cell_type": "code",
   "execution_count": 2,
   "id": "91ea9bea-1189-4aab-9fa6-cab2d4d867b6",
   "metadata": {},
   "outputs": [],
   "source": [
    "#import libraries\n",
    "import pandas as pd\n",
    "import numpy as np\n",
    "import joblib\n"
   ]
  },
  {
   "cell_type": "code",
   "execution_count": 4,
   "id": "4dfe5121-3595-41d5-92c4-c9610d7da5d0",
   "metadata": {},
   "outputs": [
    {
     "name": "stdout",
     "output_type": "stream",
     "text": [
      "Data loaded successfully!\n"
     ]
    },
    {
     "data": {
      "text/html": [
       "<div>\n",
       "<style scoped>\n",
       "    .dataframe tbody tr th:only-of-type {\n",
       "        vertical-align: middle;\n",
       "    }\n",
       "\n",
       "    .dataframe tbody tr th {\n",
       "        vertical-align: top;\n",
       "    }\n",
       "\n",
       "    .dataframe thead th {\n",
       "        text-align: right;\n",
       "    }\n",
       "</style>\n",
       "<table border=\"1\" class=\"dataframe\">\n",
       "  <thead>\n",
       "    <tr style=\"text-align: right;\">\n",
       "      <th></th>\n",
       "      <th>PassengerId</th>\n",
       "      <th>Pclass</th>\n",
       "      <th>Name</th>\n",
       "      <th>Sex</th>\n",
       "      <th>Age</th>\n",
       "      <th>SibSp</th>\n",
       "      <th>Parch</th>\n",
       "      <th>Ticket</th>\n",
       "      <th>Fare</th>\n",
       "      <th>Cabin</th>\n",
       "      <th>Embarked</th>\n",
       "    </tr>\n",
       "  </thead>\n",
       "  <tbody>\n",
       "    <tr>\n",
       "      <th>0</th>\n",
       "      <td>892</td>\n",
       "      <td>3</td>\n",
       "      <td>Kelly, Mr. James</td>\n",
       "      <td>male</td>\n",
       "      <td>34.5</td>\n",
       "      <td>0</td>\n",
       "      <td>0</td>\n",
       "      <td>330911</td>\n",
       "      <td>7.8292</td>\n",
       "      <td>NaN</td>\n",
       "      <td>Q</td>\n",
       "    </tr>\n",
       "    <tr>\n",
       "      <th>1</th>\n",
       "      <td>893</td>\n",
       "      <td>3</td>\n",
       "      <td>Wilkes, Mrs. James (Ellen Needs)</td>\n",
       "      <td>female</td>\n",
       "      <td>47.0</td>\n",
       "      <td>1</td>\n",
       "      <td>0</td>\n",
       "      <td>363272</td>\n",
       "      <td>7.0000</td>\n",
       "      <td>NaN</td>\n",
       "      <td>S</td>\n",
       "    </tr>\n",
       "    <tr>\n",
       "      <th>2</th>\n",
       "      <td>894</td>\n",
       "      <td>2</td>\n",
       "      <td>Myles, Mr. Thomas Francis</td>\n",
       "      <td>male</td>\n",
       "      <td>62.0</td>\n",
       "      <td>0</td>\n",
       "      <td>0</td>\n",
       "      <td>240276</td>\n",
       "      <td>9.6875</td>\n",
       "      <td>NaN</td>\n",
       "      <td>Q</td>\n",
       "    </tr>\n",
       "    <tr>\n",
       "      <th>3</th>\n",
       "      <td>895</td>\n",
       "      <td>3</td>\n",
       "      <td>Wirz, Mr. Albert</td>\n",
       "      <td>male</td>\n",
       "      <td>27.0</td>\n",
       "      <td>0</td>\n",
       "      <td>0</td>\n",
       "      <td>315154</td>\n",
       "      <td>8.6625</td>\n",
       "      <td>NaN</td>\n",
       "      <td>S</td>\n",
       "    </tr>\n",
       "    <tr>\n",
       "      <th>4</th>\n",
       "      <td>896</td>\n",
       "      <td>3</td>\n",
       "      <td>Hirvonen, Mrs. Alexander (Helga E Lindqvist)</td>\n",
       "      <td>female</td>\n",
       "      <td>22.0</td>\n",
       "      <td>1</td>\n",
       "      <td>1</td>\n",
       "      <td>3101298</td>\n",
       "      <td>12.2875</td>\n",
       "      <td>NaN</td>\n",
       "      <td>S</td>\n",
       "    </tr>\n",
       "  </tbody>\n",
       "</table>\n",
       "</div>"
      ],
      "text/plain": [
       "   PassengerId  Pclass                                          Name     Sex  \\\n",
       "0          892       3                              Kelly, Mr. James    male   \n",
       "1          893       3              Wilkes, Mrs. James (Ellen Needs)  female   \n",
       "2          894       2                     Myles, Mr. Thomas Francis    male   \n",
       "3          895       3                              Wirz, Mr. Albert    male   \n",
       "4          896       3  Hirvonen, Mrs. Alexander (Helga E Lindqvist)  female   \n",
       "\n",
       "    Age  SibSp  Parch   Ticket     Fare Cabin Embarked  \n",
       "0  34.5      0      0   330911   7.8292   NaN        Q  \n",
       "1  47.0      1      0   363272   7.0000   NaN        S  \n",
       "2  62.0      0      0   240276   9.6875   NaN        Q  \n",
       "3  27.0      0      0   315154   8.6625   NaN        S  \n",
       "4  22.0      1      1  3101298  12.2875   NaN        S  "
      ]
     },
     "execution_count": 4,
     "metadata": {},
     "output_type": "execute_result"
    }
   ],
   "source": [
    "#loading data\n",
    "dftest = pd.read_csv(r\"C:\\Users\\Pulani\\OneDrive\\Desktop\\Kaggle\\Titanic data set\\Titanic\\test.csv\")\n",
    "print (\"Data loaded successfully!\")\n",
    "\n",
    "# Display the first few rows of the dataset\n",
    "dftest.head()"
   ]
  },
  {
   "cell_type": "markdown",
   "id": "ff59df80-22e6-41ba-b9e5-47ea2011c937",
   "metadata": {},
   "source": [
    "## Data Preprocessing as same as for the training data"
   ]
  },
  {
   "cell_type": "code",
   "execution_count": 9,
   "id": "ef6d5443-a944-4188-8c9a-4bf76c0aad81",
   "metadata": {},
   "outputs": [
    {
     "name": "stdout",
     "output_type": "stream",
     "text": [
      "<class 'pandas.core.frame.DataFrame'>\n",
      "RangeIndex: 418 entries, 0 to 417\n",
      "Data columns (total 11 columns):\n",
      " #   Column       Non-Null Count  Dtype  \n",
      "---  ------       --------------  -----  \n",
      " 0   PassengerId  418 non-null    int64  \n",
      " 1   Pclass       418 non-null    int64  \n",
      " 2   Name         418 non-null    object \n",
      " 3   Sex          418 non-null    object \n",
      " 4   Age          332 non-null    float64\n",
      " 5   SibSp        418 non-null    int64  \n",
      " 6   Parch        418 non-null    int64  \n",
      " 7   Ticket       418 non-null    object \n",
      " 8   Fare         417 non-null    float64\n",
      " 9   Cabin        91 non-null     object \n",
      " 10  Embarked     418 non-null    object \n",
      "dtypes: float64(2), int64(4), object(5)\n",
      "memory usage: 36.1+ KB\n"
     ]
    }
   ],
   "source": [
    "# Check the data types and missing values\n",
    "dftest.info()"
   ]
  },
  {
   "cell_type": "markdown",
   "id": "1cdeb068-592d-40a7-a4af-265bb681bb78",
   "metadata": {},
   "source": [
    "### Fill missing values in 'Age' column"
   ]
  },
  {
   "cell_type": "code",
   "execution_count": 20,
   "id": "379afcee-6864-4305-a02c-759c2ae7ae21",
   "metadata": {},
   "outputs": [
    {
     "name": "stdout",
     "output_type": "stream",
     "text": [
      "count    418.000000\n",
      "mean      29.805024\n",
      "std       12.667969\n",
      "min        0.170000\n",
      "25%       23.000000\n",
      "50%       28.000000\n",
      "75%       35.750000\n",
      "max       76.000000\n",
      "Name: Age, dtype: float64\n"
     ]
    }
   ],
   "source": [
    "import joblib\n",
    "\n",
    "# Load the median age from the saved file\n",
    "median_age = joblib.load('median_age.pkl')\n",
    "\n",
    "# Fill missing values in the 'Age' column of the test dataset\n",
    "dftest['Age'] = dftest['Age'].fillna(median_age)\n",
    "\n",
    "# Verify the changes\n",
    "print(dftest['Age'].describe())\n"
   ]
  },
  {
   "cell_type": "markdown",
   "id": "94e70b72-40eb-4581-b288-3c4c8f09f2ec",
   "metadata": {},
   "source": [
    "### Handling missing values in Cabin column\n"
   ]
  },
  {
   "cell_type": "code",
   "execution_count": 25,
   "id": "560274dc-04d9-41b0-b3fe-db7584eead6f",
   "metadata": {},
   "outputs": [
    {
     "name": "stdout",
     "output_type": "stream",
     "text": [
      "Index(['PassengerId', 'Pclass', 'Name', 'Sex', 'Age', 'SibSp', 'Parch',\n",
      "       'Ticket', 'Fare', 'Embarked'],\n",
      "      dtype='object')\n"
     ]
    }
   ],
   "source": [
    "# Drop the 'Cabin' column from the test dataset\n",
    "dftest.drop('Cabin', axis=1, inplace=True)\n",
    "\n",
    "# Verify the changes\n",
    "print(dftest.columns)\n"
   ]
  },
  {
   "cell_type": "markdown",
   "id": "6841bd86-7fe6-4d4b-ae67-5f9af1a5e4d1",
   "metadata": {},
   "source": [
    "### Handling missing values in Embarked column\n",
    "\n",
    "- In Embarked column there are only 2 missing values, so I'm going to fill them with Mode"
   ]
  },
  {
   "cell_type": "code",
   "execution_count": 28,
   "id": "88529dad-ebd0-4423-b046-8088a0abcf74",
   "metadata": {},
   "outputs": [
    {
     "name": "stdout",
     "output_type": "stream",
     "text": [
      "0\n",
      "Embarked\n",
      "S    270\n",
      "C    102\n",
      "Q     46\n",
      "Name: count, dtype: int64\n"
     ]
    }
   ],
   "source": [
    "# Fill missing 'Embarked' values in the test dataset with the mode ('S')\n",
    "dftest['Embarked'] = dftest['Embarked'].fillna('S')\n",
    "\n",
    "# Verify there are no missing values\n",
    "print(dftest['Embarked'].isnull().sum())\n",
    "\n",
    "# Check unique values and their counts (optional, for verification)\n",
    "print(dftest['Embarked'].value_counts())\n"
   ]
  },
  {
   "cell_type": "markdown",
   "id": "242c5e53-d7b9-4f70-b2db-38cfa00386e4",
   "metadata": {},
   "source": [
    "### Rename the updated test DataFrame"
   ]
  },
  {
   "cell_type": "code",
   "execution_count": 31,
   "id": "35634dcc-6a74-44eb-ac2f-182079e93cf1",
   "metadata": {},
   "outputs": [
    {
     "name": "stdout",
     "output_type": "stream",
     "text": [
      "PassengerId    0\n",
      "Pclass         0\n",
      "Name           0\n",
      "Sex            0\n",
      "Age            0\n",
      "SibSp          0\n",
      "Parch          0\n",
      "Ticket         0\n",
      "Fare           1\n",
      "Embarked       0\n",
      "dtype: int64\n"
     ]
    },
    {
     "data": {
      "text/html": [
       "<div>\n",
       "<style scoped>\n",
       "    .dataframe tbody tr th:only-of-type {\n",
       "        vertical-align: middle;\n",
       "    }\n",
       "\n",
       "    .dataframe tbody tr th {\n",
       "        vertical-align: top;\n",
       "    }\n",
       "\n",
       "    .dataframe thead th {\n",
       "        text-align: right;\n",
       "    }\n",
       "</style>\n",
       "<table border=\"1\" class=\"dataframe\">\n",
       "  <thead>\n",
       "    <tr style=\"text-align: right;\">\n",
       "      <th></th>\n",
       "      <th>PassengerId</th>\n",
       "      <th>Pclass</th>\n",
       "      <th>Name</th>\n",
       "      <th>Sex</th>\n",
       "      <th>Age</th>\n",
       "      <th>SibSp</th>\n",
       "      <th>Parch</th>\n",
       "      <th>Ticket</th>\n",
       "      <th>Fare</th>\n",
       "      <th>Embarked</th>\n",
       "    </tr>\n",
       "  </thead>\n",
       "  <tbody>\n",
       "    <tr>\n",
       "      <th>0</th>\n",
       "      <td>892</td>\n",
       "      <td>3</td>\n",
       "      <td>Kelly, Mr. James</td>\n",
       "      <td>male</td>\n",
       "      <td>34.5</td>\n",
       "      <td>0</td>\n",
       "      <td>0</td>\n",
       "      <td>330911</td>\n",
       "      <td>7.8292</td>\n",
       "      <td>Q</td>\n",
       "    </tr>\n",
       "    <tr>\n",
       "      <th>1</th>\n",
       "      <td>893</td>\n",
       "      <td>3</td>\n",
       "      <td>Wilkes, Mrs. James (Ellen Needs)</td>\n",
       "      <td>female</td>\n",
       "      <td>47.0</td>\n",
       "      <td>1</td>\n",
       "      <td>0</td>\n",
       "      <td>363272</td>\n",
       "      <td>7.0000</td>\n",
       "      <td>S</td>\n",
       "    </tr>\n",
       "    <tr>\n",
       "      <th>2</th>\n",
       "      <td>894</td>\n",
       "      <td>2</td>\n",
       "      <td>Myles, Mr. Thomas Francis</td>\n",
       "      <td>male</td>\n",
       "      <td>62.0</td>\n",
       "      <td>0</td>\n",
       "      <td>0</td>\n",
       "      <td>240276</td>\n",
       "      <td>9.6875</td>\n",
       "      <td>Q</td>\n",
       "    </tr>\n",
       "    <tr>\n",
       "      <th>3</th>\n",
       "      <td>895</td>\n",
       "      <td>3</td>\n",
       "      <td>Wirz, Mr. Albert</td>\n",
       "      <td>male</td>\n",
       "      <td>27.0</td>\n",
       "      <td>0</td>\n",
       "      <td>0</td>\n",
       "      <td>315154</td>\n",
       "      <td>8.6625</td>\n",
       "      <td>S</td>\n",
       "    </tr>\n",
       "    <tr>\n",
       "      <th>4</th>\n",
       "      <td>896</td>\n",
       "      <td>3</td>\n",
       "      <td>Hirvonen, Mrs. Alexander (Helga E Lindqvist)</td>\n",
       "      <td>female</td>\n",
       "      <td>22.0</td>\n",
       "      <td>1</td>\n",
       "      <td>1</td>\n",
       "      <td>3101298</td>\n",
       "      <td>12.2875</td>\n",
       "      <td>S</td>\n",
       "    </tr>\n",
       "  </tbody>\n",
       "</table>\n",
       "</div>"
      ],
      "text/plain": [
       "   PassengerId  Pclass                                          Name     Sex  \\\n",
       "0          892       3                              Kelly, Mr. James    male   \n",
       "1          893       3              Wilkes, Mrs. James (Ellen Needs)  female   \n",
       "2          894       2                     Myles, Mr. Thomas Francis    male   \n",
       "3          895       3                              Wirz, Mr. Albert    male   \n",
       "4          896       3  Hirvonen, Mrs. Alexander (Helga E Lindqvist)  female   \n",
       "\n",
       "    Age  SibSp  Parch   Ticket     Fare Embarked  \n",
       "0  34.5      0      0   330911   7.8292        Q  \n",
       "1  47.0      1      0   363272   7.0000        S  \n",
       "2  62.0      0      0   240276   9.6875        Q  \n",
       "3  27.0      0      0   315154   8.6625        S  \n",
       "4  22.0      1      1  3101298  12.2875        S  "
      ]
     },
     "execution_count": 31,
     "metadata": {},
     "output_type": "execute_result"
    }
   ],
   "source": [
    "# Rename the updated test DataFrame\n",
    "dftest_cleaned = dftest.copy()\n",
    "\n",
    "# Verify the cleaned test data\n",
    "\n",
    "# Check for missing values\n",
    "print(dftest_cleaned.isnull().sum())\n",
    "\n",
    "# Check the first few rows\n",
    "dftest_cleaned.head()\n"
   ]
  },
  {
   "cell_type": "markdown",
   "id": "14653620-c762-40fd-9bdc-9b56a660ed49",
   "metadata": {},
   "source": [
    "## Feature Engineering"
   ]
  },
  {
   "cell_type": "markdown",
   "id": "d49f13b6-22af-424d-874e-1de37b87e8a1",
   "metadata": {},
   "source": [
    "### Title Extraction and One-Hot Encoding in Test Dataset"
   ]
  },
  {
   "cell_type": "code",
   "execution_count": 35,
   "id": "54b3fb98-4d0d-4c55-8ee4-4f5584325861",
   "metadata": {},
   "outputs": [
    {
     "name": "stdout",
     "output_type": "stream",
     "text": [
      "Title\n",
      "Mr        240\n",
      "Miss       78\n",
      "Mrs        72\n",
      "Master     21\n",
      "Rare        6\n",
      "Dona        1\n",
      "Name: count, dtype: int64\n"
     ]
    },
    {
     "data": {
      "text/html": [
       "<div>\n",
       "<style scoped>\n",
       "    .dataframe tbody tr th:only-of-type {\n",
       "        vertical-align: middle;\n",
       "    }\n",
       "\n",
       "    .dataframe tbody tr th {\n",
       "        vertical-align: top;\n",
       "    }\n",
       "\n",
       "    .dataframe thead th {\n",
       "        text-align: right;\n",
       "    }\n",
       "</style>\n",
       "<table border=\"1\" class=\"dataframe\">\n",
       "  <thead>\n",
       "    <tr style=\"text-align: right;\">\n",
       "      <th></th>\n",
       "      <th>PassengerId</th>\n",
       "      <th>Pclass</th>\n",
       "      <th>Name</th>\n",
       "      <th>Sex</th>\n",
       "      <th>Age</th>\n",
       "      <th>SibSp</th>\n",
       "      <th>Parch</th>\n",
       "      <th>Ticket</th>\n",
       "      <th>Fare</th>\n",
       "      <th>Embarked</th>\n",
       "      <th>Title_Master</th>\n",
       "      <th>Title_Miss</th>\n",
       "      <th>Title_Mr</th>\n",
       "      <th>Title_Mrs</th>\n",
       "      <th>Title_Rare</th>\n",
       "    </tr>\n",
       "  </thead>\n",
       "  <tbody>\n",
       "    <tr>\n",
       "      <th>0</th>\n",
       "      <td>892</td>\n",
       "      <td>3</td>\n",
       "      <td>Kelly, Mr. James</td>\n",
       "      <td>male</td>\n",
       "      <td>34.5</td>\n",
       "      <td>0</td>\n",
       "      <td>0</td>\n",
       "      <td>330911</td>\n",
       "      <td>7.8292</td>\n",
       "      <td>Q</td>\n",
       "      <td>0</td>\n",
       "      <td>0</td>\n",
       "      <td>1</td>\n",
       "      <td>0</td>\n",
       "      <td>0</td>\n",
       "    </tr>\n",
       "    <tr>\n",
       "      <th>1</th>\n",
       "      <td>893</td>\n",
       "      <td>3</td>\n",
       "      <td>Wilkes, Mrs. James (Ellen Needs)</td>\n",
       "      <td>female</td>\n",
       "      <td>47.0</td>\n",
       "      <td>1</td>\n",
       "      <td>0</td>\n",
       "      <td>363272</td>\n",
       "      <td>7.0000</td>\n",
       "      <td>S</td>\n",
       "      <td>0</td>\n",
       "      <td>0</td>\n",
       "      <td>0</td>\n",
       "      <td>1</td>\n",
       "      <td>0</td>\n",
       "    </tr>\n",
       "    <tr>\n",
       "      <th>2</th>\n",
       "      <td>894</td>\n",
       "      <td>2</td>\n",
       "      <td>Myles, Mr. Thomas Francis</td>\n",
       "      <td>male</td>\n",
       "      <td>62.0</td>\n",
       "      <td>0</td>\n",
       "      <td>0</td>\n",
       "      <td>240276</td>\n",
       "      <td>9.6875</td>\n",
       "      <td>Q</td>\n",
       "      <td>0</td>\n",
       "      <td>0</td>\n",
       "      <td>1</td>\n",
       "      <td>0</td>\n",
       "      <td>0</td>\n",
       "    </tr>\n",
       "    <tr>\n",
       "      <th>3</th>\n",
       "      <td>895</td>\n",
       "      <td>3</td>\n",
       "      <td>Wirz, Mr. Albert</td>\n",
       "      <td>male</td>\n",
       "      <td>27.0</td>\n",
       "      <td>0</td>\n",
       "      <td>0</td>\n",
       "      <td>315154</td>\n",
       "      <td>8.6625</td>\n",
       "      <td>S</td>\n",
       "      <td>0</td>\n",
       "      <td>0</td>\n",
       "      <td>1</td>\n",
       "      <td>0</td>\n",
       "      <td>0</td>\n",
       "    </tr>\n",
       "    <tr>\n",
       "      <th>4</th>\n",
       "      <td>896</td>\n",
       "      <td>3</td>\n",
       "      <td>Hirvonen, Mrs. Alexander (Helga E Lindqvist)</td>\n",
       "      <td>female</td>\n",
       "      <td>22.0</td>\n",
       "      <td>1</td>\n",
       "      <td>1</td>\n",
       "      <td>3101298</td>\n",
       "      <td>12.2875</td>\n",
       "      <td>S</td>\n",
       "      <td>0</td>\n",
       "      <td>0</td>\n",
       "      <td>0</td>\n",
       "      <td>1</td>\n",
       "      <td>0</td>\n",
       "    </tr>\n",
       "  </tbody>\n",
       "</table>\n",
       "</div>"
      ],
      "text/plain": [
       "   PassengerId  Pclass                                          Name     Sex  \\\n",
       "0          892       3                              Kelly, Mr. James    male   \n",
       "1          893       3              Wilkes, Mrs. James (Ellen Needs)  female   \n",
       "2          894       2                     Myles, Mr. Thomas Francis    male   \n",
       "3          895       3                              Wirz, Mr. Albert    male   \n",
       "4          896       3  Hirvonen, Mrs. Alexander (Helga E Lindqvist)  female   \n",
       "\n",
       "    Age  SibSp  Parch   Ticket     Fare Embarked  Title_Master  Title_Miss  \\\n",
       "0  34.5      0      0   330911   7.8292        Q             0           0   \n",
       "1  47.0      1      0   363272   7.0000        S             0           0   \n",
       "2  62.0      0      0   240276   9.6875        Q             0           0   \n",
       "3  27.0      0      0   315154   8.6625        S             0           0   \n",
       "4  22.0      1      1  3101298  12.2875        S             0           0   \n",
       "\n",
       "   Title_Mr  Title_Mrs  Title_Rare  \n",
       "0         1          0           0  \n",
       "1         0          1           0  \n",
       "2         1          0           0  \n",
       "3         1          0           0  \n",
       "4         0          1           0  "
      ]
     },
     "execution_count": 35,
     "metadata": {},
     "output_type": "execute_result"
    }
   ],
   "source": [
    "### Title Extraction\n",
    "# Extract title from the Name column\n",
    "dftest_cleaned['Title'] = dftest_cleaned['Name'].str.extract(r' ([A-Za-z]+)\\.', expand=False)\n",
    "\n",
    "# Group rare titles into a single category 'Rare'\n",
    "dftest_cleaned['Title'] = dftest_cleaned['Title'].replace(['Dr', 'Rev', 'Mlle', 'Major', 'Col', \n",
    "                                                           'Countess', 'Capt', 'Ms', 'Sir', \n",
    "                                                           'Lady', 'Mme', 'Don', 'Jonkheer'], 'Rare')\n",
    "\n",
    "# Verify the unique titles\n",
    "print(dftest_cleaned['Title'].value_counts())\n",
    "\n",
    "### One-Hot Encoding\n",
    "# Perform one-hot encoding for the Title column\n",
    "dftest_cleaned = pd.get_dummies(dftest_cleaned, columns=['Title'], drop_first=True, dtype=int)\n",
    "\n",
    "# Check the updated DataFrame\n",
    "dftest_cleaned.head()\n"
   ]
  },
  {
   "cell_type": "markdown",
   "id": "9363a397-c9e3-4033-9ba3-273a6c5bbd2b",
   "metadata": {},
   "source": [
    "### Converting Sex Column in the Test Dataset"
   ]
  },
  {
   "cell_type": "code",
   "execution_count": 38,
   "id": "5b9bb7bf-04ff-466e-8c9b-5de63d342f66",
   "metadata": {},
   "outputs": [
    {
     "name": "stdout",
     "output_type": "stream",
     "text": [
      "   Sex\n",
      "0    0\n",
      "1    1\n",
      "2    0\n",
      "3    0\n",
      "4    1\n"
     ]
    }
   ],
   "source": [
    "# Convert 'Sex' to numerical: male = 0, female = 1\n",
    "dftest_cleaned['Sex'] = dftest_cleaned['Sex'].map({'male': 0, 'female': 1})\n",
    "\n",
    "# Verify the changes\n",
    "print(dftest_cleaned[['Sex']].head())\n"
   ]
  },
  {
   "cell_type": "markdown",
   "id": "27feb0b1-9aaf-49c2-9f9a-123d672cc210",
   "metadata": {},
   "source": [
    "### One-Hot Encoding the Embarked Column in Test Dataset"
   ]
  },
  {
   "cell_type": "code",
   "execution_count": 41,
   "id": "06501b49-24c9-40e8-9072-0d0f1afb5cd1",
   "metadata": {},
   "outputs": [
    {
     "data": {
      "text/html": [
       "<div>\n",
       "<style scoped>\n",
       "    .dataframe tbody tr th:only-of-type {\n",
       "        vertical-align: middle;\n",
       "    }\n",
       "\n",
       "    .dataframe tbody tr th {\n",
       "        vertical-align: top;\n",
       "    }\n",
       "\n",
       "    .dataframe thead th {\n",
       "        text-align: right;\n",
       "    }\n",
       "</style>\n",
       "<table border=\"1\" class=\"dataframe\">\n",
       "  <thead>\n",
       "    <tr style=\"text-align: right;\">\n",
       "      <th></th>\n",
       "      <th>Embarked_Q</th>\n",
       "      <th>Embarked_S</th>\n",
       "    </tr>\n",
       "  </thead>\n",
       "  <tbody>\n",
       "    <tr>\n",
       "      <th>0</th>\n",
       "      <td>1</td>\n",
       "      <td>0</td>\n",
       "    </tr>\n",
       "    <tr>\n",
       "      <th>1</th>\n",
       "      <td>0</td>\n",
       "      <td>1</td>\n",
       "    </tr>\n",
       "    <tr>\n",
       "      <th>2</th>\n",
       "      <td>1</td>\n",
       "      <td>0</td>\n",
       "    </tr>\n",
       "    <tr>\n",
       "      <th>3</th>\n",
       "      <td>0</td>\n",
       "      <td>1</td>\n",
       "    </tr>\n",
       "    <tr>\n",
       "      <th>4</th>\n",
       "      <td>0</td>\n",
       "      <td>1</td>\n",
       "    </tr>\n",
       "  </tbody>\n",
       "</table>\n",
       "</div>"
      ],
      "text/plain": [
       "   Embarked_Q  Embarked_S\n",
       "0           1           0\n",
       "1           0           1\n",
       "2           1           0\n",
       "3           0           1\n",
       "4           0           1"
      ]
     },
     "execution_count": 41,
     "metadata": {},
     "output_type": "execute_result"
    }
   ],
   "source": [
    "# Perform one-hot encoding for the 'Embarked' column\n",
    "dftest_cleaned = pd.get_dummies(dftest_cleaned, columns=['Embarked'], drop_first=True, dtype=int)\n",
    "\n",
    "# Verify the changes\n",
    "dftest_cleaned.filter(like='Embarked_').head()\n"
   ]
  },
  {
   "cell_type": "markdown",
   "id": "7fe68f21-a26d-4fdf-baad-40eab9012fb1",
   "metadata": {},
   "source": [
    "### Create Age Groups & One-Hot encoding for AgeGroup\n"
   ]
  },
  {
   "cell_type": "code",
   "execution_count": 43,
   "id": "4d504847-5fa7-47e4-a7c7-588b32a42fbb",
   "metadata": {},
   "outputs": [
    {
     "name": "stdout",
     "output_type": "stream",
     "text": [
      "    Age     AgeGroup\n",
      "0  34.5  Young Adult\n",
      "1  47.0        Adult\n",
      "2  62.0       Senior\n",
      "3  27.0  Young Adult\n",
      "4  22.0  Young Adult\n",
      "   PassengerId  Pclass                                          Name  Sex  \\\n",
      "0          892       3                              Kelly, Mr. James    0   \n",
      "1          893       3              Wilkes, Mrs. James (Ellen Needs)    1   \n",
      "2          894       2                     Myles, Mr. Thomas Francis    0   \n",
      "3          895       3                              Wirz, Mr. Albert    0   \n",
      "4          896       3  Hirvonen, Mrs. Alexander (Helga E Lindqvist)    1   \n",
      "\n",
      "    Age  SibSp  Parch   Ticket     Fare  Title_Master  Title_Miss  Title_Mr  \\\n",
      "0  34.5      0      0   330911   7.8292             0           0         1   \n",
      "1  47.0      1      0   363272   7.0000             0           0         0   \n",
      "2  62.0      0      0   240276   9.6875             0           0         1   \n",
      "3  27.0      0      0   315154   8.6625             0           0         1   \n",
      "4  22.0      1      1  3101298  12.2875             0           0         0   \n",
      "\n",
      "   Title_Mrs  Title_Rare  Embarked_Q  Embarked_S  AgeGroup_Teenager  \\\n",
      "0          0           0           1           0                  0   \n",
      "1          1           0           0           1                  0   \n",
      "2          0           0           1           0                  0   \n",
      "3          0           0           0           1                  0   \n",
      "4          1           0           0           1                  0   \n",
      "\n",
      "   AgeGroup_Young Adult  AgeGroup_Adult  AgeGroup_Senior  \n",
      "0                     1               0                0  \n",
      "1                     0               1                0  \n",
      "2                     0               0                1  \n",
      "3                     1               0                0  \n",
      "4                     1               0                0  \n"
     ]
    }
   ],
   "source": [
    "# Define age bins and labels (same as in the training dataset)\n",
    "bins = [0, 12, 19, 35, 60, 80]  # Define bin edges\n",
    "labels = ['Child', 'Teenager', 'Young Adult', 'Adult', 'Senior']  # Define bin labels\n",
    "\n",
    "# Create the AgeGroup column in the test dataset\n",
    "dftest_cleaned['AgeGroup'] = pd.cut(dftest_cleaned['Age'], bins=bins, labels=labels)\n",
    "\n",
    "# Verify the new column\n",
    "print(dftest_cleaned[['Age', 'AgeGroup']].head(5))\n",
    "\n",
    "# Perform one-hot encoding on AgeGroup\n",
    "dftest_cleaned = pd.get_dummies(dftest_cleaned, columns=['AgeGroup'], drop_first=True, dtype=int)\n",
    "\n",
    "# Verify the updated DataFrame\n",
    "dftest_cleaned.head()\n"
   ]
  },
  {
   "cell_type": "code",
   "execution_count": 66,
   "id": "bfca1c55-afd8-42d1-9eb9-71c838b001cc",
   "metadata": {},
   "outputs": [
    {
     "data": {
      "text/html": [
       "<div>\n",
       "<style scoped>\n",
       "    .dataframe tbody tr th:only-of-type {\n",
       "        vertical-align: middle;\n",
       "    }\n",
       "\n",
       "    .dataframe tbody tr th {\n",
       "        vertical-align: top;\n",
       "    }\n",
       "\n",
       "    .dataframe thead th {\n",
       "        text-align: right;\n",
       "    }\n",
       "</style>\n",
       "<table border=\"1\" class=\"dataframe\">\n",
       "  <thead>\n",
       "    <tr style=\"text-align: right;\">\n",
       "      <th></th>\n",
       "      <th>Pclass</th>\n",
       "      <th>Sex</th>\n",
       "      <th>SibSp</th>\n",
       "      <th>Parch</th>\n",
       "      <th>Fare</th>\n",
       "      <th>Title_Master</th>\n",
       "      <th>Title_Miss</th>\n",
       "      <th>Title_Mr</th>\n",
       "      <th>Title_Mrs</th>\n",
       "      <th>Title_Rare</th>\n",
       "      <th>Embarked_Q</th>\n",
       "      <th>Embarked_S</th>\n",
       "      <th>AgeGroup_Teenager</th>\n",
       "      <th>AgeGroup_Young Adult</th>\n",
       "      <th>AgeGroup_Adult</th>\n",
       "      <th>AgeGroup_Senior</th>\n",
       "    </tr>\n",
       "  </thead>\n",
       "  <tbody>\n",
       "    <tr>\n",
       "      <th>0</th>\n",
       "      <td>3</td>\n",
       "      <td>0</td>\n",
       "      <td>0</td>\n",
       "      <td>0</td>\n",
       "      <td>7.8292</td>\n",
       "      <td>0</td>\n",
       "      <td>0</td>\n",
       "      <td>1</td>\n",
       "      <td>0</td>\n",
       "      <td>0</td>\n",
       "      <td>1</td>\n",
       "      <td>0</td>\n",
       "      <td>0</td>\n",
       "      <td>1</td>\n",
       "      <td>0</td>\n",
       "      <td>0</td>\n",
       "    </tr>\n",
       "    <tr>\n",
       "      <th>1</th>\n",
       "      <td>3</td>\n",
       "      <td>1</td>\n",
       "      <td>1</td>\n",
       "      <td>0</td>\n",
       "      <td>7.0000</td>\n",
       "      <td>0</td>\n",
       "      <td>0</td>\n",
       "      <td>0</td>\n",
       "      <td>1</td>\n",
       "      <td>0</td>\n",
       "      <td>0</td>\n",
       "      <td>1</td>\n",
       "      <td>0</td>\n",
       "      <td>0</td>\n",
       "      <td>1</td>\n",
       "      <td>0</td>\n",
       "    </tr>\n",
       "    <tr>\n",
       "      <th>2</th>\n",
       "      <td>2</td>\n",
       "      <td>0</td>\n",
       "      <td>0</td>\n",
       "      <td>0</td>\n",
       "      <td>9.6875</td>\n",
       "      <td>0</td>\n",
       "      <td>0</td>\n",
       "      <td>1</td>\n",
       "      <td>0</td>\n",
       "      <td>0</td>\n",
       "      <td>1</td>\n",
       "      <td>0</td>\n",
       "      <td>0</td>\n",
       "      <td>0</td>\n",
       "      <td>0</td>\n",
       "      <td>1</td>\n",
       "    </tr>\n",
       "    <tr>\n",
       "      <th>3</th>\n",
       "      <td>3</td>\n",
       "      <td>0</td>\n",
       "      <td>0</td>\n",
       "      <td>0</td>\n",
       "      <td>8.6625</td>\n",
       "      <td>0</td>\n",
       "      <td>0</td>\n",
       "      <td>1</td>\n",
       "      <td>0</td>\n",
       "      <td>0</td>\n",
       "      <td>0</td>\n",
       "      <td>1</td>\n",
       "      <td>0</td>\n",
       "      <td>1</td>\n",
       "      <td>0</td>\n",
       "      <td>0</td>\n",
       "    </tr>\n",
       "    <tr>\n",
       "      <th>4</th>\n",
       "      <td>3</td>\n",
       "      <td>1</td>\n",
       "      <td>1</td>\n",
       "      <td>1</td>\n",
       "      <td>12.2875</td>\n",
       "      <td>0</td>\n",
       "      <td>0</td>\n",
       "      <td>0</td>\n",
       "      <td>1</td>\n",
       "      <td>0</td>\n",
       "      <td>0</td>\n",
       "      <td>1</td>\n",
       "      <td>0</td>\n",
       "      <td>1</td>\n",
       "      <td>0</td>\n",
       "      <td>0</td>\n",
       "    </tr>\n",
       "  </tbody>\n",
       "</table>\n",
       "</div>"
      ],
      "text/plain": [
       "   Pclass  Sex  SibSp  Parch     Fare  Title_Master  Title_Miss  Title_Mr  \\\n",
       "0       3    0      0      0   7.8292             0           0         1   \n",
       "1       3    1      1      0   7.0000             0           0         0   \n",
       "2       2    0      0      0   9.6875             0           0         1   \n",
       "3       3    0      0      0   8.6625             0           0         1   \n",
       "4       3    1      1      1  12.2875             0           0         0   \n",
       "\n",
       "   Title_Mrs  Title_Rare  Embarked_Q  Embarked_S  AgeGroup_Teenager  \\\n",
       "0          0           0           1           0                  0   \n",
       "1          1           0           0           1                  0   \n",
       "2          0           0           1           0                  0   \n",
       "3          0           0           0           1                  0   \n",
       "4          1           0           0           1                  0   \n",
       "\n",
       "   AgeGroup_Young Adult  AgeGroup_Adult  AgeGroup_Senior  \n",
       "0                     1               0                0  \n",
       "1                     0               1                0  \n",
       "2                     0               0                1  \n",
       "3                     1               0                0  \n",
       "4                     1               0                0  "
      ]
     },
     "execution_count": 66,
     "metadata": {},
     "output_type": "execute_result"
    }
   ],
   "source": [
    "# Verify the updated DataFrame\n",
    "dftest_cleaned.head()\n"
   ]
  },
  {
   "cell_type": "code",
   "execution_count": 45,
   "id": "c31af2a1-eee8-40af-87b1-65dfe246aee6",
   "metadata": {},
   "outputs": [
    {
     "name": "stdout",
     "output_type": "stream",
     "text": [
      "<class 'pandas.core.frame.DataFrame'>\n",
      "RangeIndex: 418 entries, 0 to 417\n",
      "Data columns (total 20 columns):\n",
      " #   Column                Non-Null Count  Dtype  \n",
      "---  ------                --------------  -----  \n",
      " 0   PassengerId           418 non-null    int64  \n",
      " 1   Pclass                418 non-null    int64  \n",
      " 2   Name                  418 non-null    object \n",
      " 3   Sex                   418 non-null    int64  \n",
      " 4   Age                   418 non-null    float64\n",
      " 5   SibSp                 418 non-null    int64  \n",
      " 6   Parch                 418 non-null    int64  \n",
      " 7   Ticket                418 non-null    object \n",
      " 8   Fare                  417 non-null    float64\n",
      " 9   Title_Master          418 non-null    int32  \n",
      " 10  Title_Miss            418 non-null    int32  \n",
      " 11  Title_Mr              418 non-null    int32  \n",
      " 12  Title_Mrs             418 non-null    int32  \n",
      " 13  Title_Rare            418 non-null    int32  \n",
      " 14  Embarked_Q            418 non-null    int32  \n",
      " 15  Embarked_S            418 non-null    int32  \n",
      " 16  AgeGroup_Teenager     418 non-null    int32  \n",
      " 17  AgeGroup_Young Adult  418 non-null    int32  \n",
      " 18  AgeGroup_Adult        418 non-null    int32  \n",
      " 19  AgeGroup_Senior       418 non-null    int32  \n",
      "dtypes: float64(2), int32(11), int64(5), object(2)\n",
      "memory usage: 47.5+ KB\n"
     ]
    }
   ],
   "source": [
    "#to check the information of columns\n",
    "dftest_cleaned.info()"
   ]
  },
  {
   "cell_type": "markdown",
   "id": "98edc70a-f633-4e8d-9d3e-7a69cb987d0a",
   "metadata": {},
   "source": [
    "### Drop other irrelevant columns in Test Data Set"
   ]
  },
  {
   "cell_type": "code",
   "execution_count": 48,
   "id": "95f1c9a1-639b-42f2-9009-6df9311f57b0",
   "metadata": {},
   "outputs": [
    {
     "name": "stdout",
     "output_type": "stream",
     "text": [
      "<class 'pandas.core.frame.DataFrame'>\n",
      "RangeIndex: 418 entries, 0 to 417\n",
      "Data columns (total 16 columns):\n",
      " #   Column                Non-Null Count  Dtype  \n",
      "---  ------                --------------  -----  \n",
      " 0   Pclass                418 non-null    int64  \n",
      " 1   Sex                   418 non-null    int64  \n",
      " 2   SibSp                 418 non-null    int64  \n",
      " 3   Parch                 418 non-null    int64  \n",
      " 4   Fare                  417 non-null    float64\n",
      " 5   Title_Master          418 non-null    int32  \n",
      " 6   Title_Miss            418 non-null    int32  \n",
      " 7   Title_Mr              418 non-null    int32  \n",
      " 8   Title_Mrs             418 non-null    int32  \n",
      " 9   Title_Rare            418 non-null    int32  \n",
      " 10  Embarked_Q            418 non-null    int32  \n",
      " 11  Embarked_S            418 non-null    int32  \n",
      " 12  AgeGroup_Teenager     418 non-null    int32  \n",
      " 13  AgeGroup_Young Adult  418 non-null    int32  \n",
      " 14  AgeGroup_Adult        418 non-null    int32  \n",
      " 15  AgeGroup_Senior       418 non-null    int32  \n",
      "dtypes: float64(1), int32(11), int64(4)\n",
      "memory usage: 34.4 KB\n",
      "None\n"
     ]
    }
   ],
   "source": [
    "# Drop irrelevant columns in the test dataset\n",
    "dftest_cleaned.drop(columns=['PassengerId', 'Name', 'Ticket', 'Age'], inplace=True)\n",
    "\n",
    "# Verify the updated DataFrame\n",
    "print(dftest_cleaned.info())\n"
   ]
  },
  {
   "cell_type": "code",
   "execution_count": 52,
   "id": "582efafa-d357-4f51-95ad-88f24ffa7de0",
   "metadata": {},
   "outputs": [
    {
     "data": {
      "text/html": [
       "<div>\n",
       "<style scoped>\n",
       "    .dataframe tbody tr th:only-of-type {\n",
       "        vertical-align: middle;\n",
       "    }\n",
       "\n",
       "    .dataframe tbody tr th {\n",
       "        vertical-align: top;\n",
       "    }\n",
       "\n",
       "    .dataframe thead th {\n",
       "        text-align: right;\n",
       "    }\n",
       "</style>\n",
       "<table border=\"1\" class=\"dataframe\">\n",
       "  <thead>\n",
       "    <tr style=\"text-align: right;\">\n",
       "      <th></th>\n",
       "      <th>Pclass</th>\n",
       "      <th>Sex</th>\n",
       "      <th>SibSp</th>\n",
       "      <th>Parch</th>\n",
       "      <th>Fare</th>\n",
       "      <th>Title_Master</th>\n",
       "      <th>Title_Miss</th>\n",
       "      <th>Title_Mr</th>\n",
       "      <th>Title_Mrs</th>\n",
       "      <th>Title_Rare</th>\n",
       "      <th>Embarked_Q</th>\n",
       "      <th>Embarked_S</th>\n",
       "      <th>AgeGroup_Teenager</th>\n",
       "      <th>AgeGroup_Young Adult</th>\n",
       "      <th>AgeGroup_Adult</th>\n",
       "      <th>AgeGroup_Senior</th>\n",
       "    </tr>\n",
       "  </thead>\n",
       "  <tbody>\n",
       "    <tr>\n",
       "      <th>0</th>\n",
       "      <td>3</td>\n",
       "      <td>0</td>\n",
       "      <td>0</td>\n",
       "      <td>0</td>\n",
       "      <td>7.8292</td>\n",
       "      <td>0</td>\n",
       "      <td>0</td>\n",
       "      <td>1</td>\n",
       "      <td>0</td>\n",
       "      <td>0</td>\n",
       "      <td>1</td>\n",
       "      <td>0</td>\n",
       "      <td>0</td>\n",
       "      <td>1</td>\n",
       "      <td>0</td>\n",
       "      <td>0</td>\n",
       "    </tr>\n",
       "    <tr>\n",
       "      <th>1</th>\n",
       "      <td>3</td>\n",
       "      <td>1</td>\n",
       "      <td>1</td>\n",
       "      <td>0</td>\n",
       "      <td>7.0000</td>\n",
       "      <td>0</td>\n",
       "      <td>0</td>\n",
       "      <td>0</td>\n",
       "      <td>1</td>\n",
       "      <td>0</td>\n",
       "      <td>0</td>\n",
       "      <td>1</td>\n",
       "      <td>0</td>\n",
       "      <td>0</td>\n",
       "      <td>1</td>\n",
       "      <td>0</td>\n",
       "    </tr>\n",
       "    <tr>\n",
       "      <th>2</th>\n",
       "      <td>2</td>\n",
       "      <td>0</td>\n",
       "      <td>0</td>\n",
       "      <td>0</td>\n",
       "      <td>9.6875</td>\n",
       "      <td>0</td>\n",
       "      <td>0</td>\n",
       "      <td>1</td>\n",
       "      <td>0</td>\n",
       "      <td>0</td>\n",
       "      <td>1</td>\n",
       "      <td>0</td>\n",
       "      <td>0</td>\n",
       "      <td>0</td>\n",
       "      <td>0</td>\n",
       "      <td>1</td>\n",
       "    </tr>\n",
       "    <tr>\n",
       "      <th>3</th>\n",
       "      <td>3</td>\n",
       "      <td>0</td>\n",
       "      <td>0</td>\n",
       "      <td>0</td>\n",
       "      <td>8.6625</td>\n",
       "      <td>0</td>\n",
       "      <td>0</td>\n",
       "      <td>1</td>\n",
       "      <td>0</td>\n",
       "      <td>0</td>\n",
       "      <td>0</td>\n",
       "      <td>1</td>\n",
       "      <td>0</td>\n",
       "      <td>1</td>\n",
       "      <td>0</td>\n",
       "      <td>0</td>\n",
       "    </tr>\n",
       "    <tr>\n",
       "      <th>4</th>\n",
       "      <td>3</td>\n",
       "      <td>1</td>\n",
       "      <td>1</td>\n",
       "      <td>1</td>\n",
       "      <td>12.2875</td>\n",
       "      <td>0</td>\n",
       "      <td>0</td>\n",
       "      <td>0</td>\n",
       "      <td>1</td>\n",
       "      <td>0</td>\n",
       "      <td>0</td>\n",
       "      <td>1</td>\n",
       "      <td>0</td>\n",
       "      <td>1</td>\n",
       "      <td>0</td>\n",
       "      <td>0</td>\n",
       "    </tr>\n",
       "  </tbody>\n",
       "</table>\n",
       "</div>"
      ],
      "text/plain": [
       "   Pclass  Sex  SibSp  Parch     Fare  Title_Master  Title_Miss  Title_Mr  \\\n",
       "0       3    0      0      0   7.8292             0           0         1   \n",
       "1       3    1      1      0   7.0000             0           0         0   \n",
       "2       2    0      0      0   9.6875             0           0         1   \n",
       "3       3    0      0      0   8.6625             0           0         1   \n",
       "4       3    1      1      1  12.2875             0           0         0   \n",
       "\n",
       "   Title_Mrs  Title_Rare  Embarked_Q  Embarked_S  AgeGroup_Teenager  \\\n",
       "0          0           0           1           0                  0   \n",
       "1          1           0           0           1                  0   \n",
       "2          0           0           1           0                  0   \n",
       "3          0           0           0           1                  0   \n",
       "4          1           0           0           1                  0   \n",
       "\n",
       "   AgeGroup_Young Adult  AgeGroup_Adult  AgeGroup_Senior  \n",
       "0                     1               0                0  \n",
       "1                     0               1                0  \n",
       "2                     0               0                1  \n",
       "3                     1               0                0  \n",
       "4                     1               0                0  "
      ]
     },
     "execution_count": 52,
     "metadata": {},
     "output_type": "execute_result"
    }
   ],
   "source": [
    "dftest_cleaned.head()"
   ]
  },
  {
   "cell_type": "code",
   "execution_count": 62,
   "id": "97123f04-4903-4141-b93a-9e99ce1476f4",
   "metadata": {},
   "outputs": [
    {
     "name": "stdout",
     "output_type": "stream",
     "text": [
      "Training column names loaded: ['Survived', 'Pclass', 'Sex', 'SibSp', 'Parch', 'Fare', 'Title_Miss', 'Title_Mr', 'Title_Mrs', 'Title_Rare', 'Embarked_Q', 'Embarked_S', 'AgeGroup_Teenager', 'AgeGroup_Young Adult', 'AgeGroup_Adult', 'AgeGroup_Senior']\n"
     ]
    }
   ],
   "source": [
    "import joblib\n",
    "\n",
    "# Load the column names\n",
    "training_columns = joblib.load('training_columns.pkl')\n",
    "print(\"Training column names loaded:\", training_columns)\n"
   ]
  },
  {
   "cell_type": "code",
   "execution_count": 64,
   "id": "852c4177-deaf-4fec-bcd3-1806211a2bb7",
   "metadata": {},
   "outputs": [
    {
     "name": "stdout",
     "output_type": "stream",
     "text": [
      "Index(['Pclass', 'Sex', 'SibSp', 'Parch', 'Fare', 'Title_Master', 'Title_Miss',\n",
      "       'Title_Mr', 'Title_Mrs', 'Title_Rare', 'Embarked_Q', 'Embarked_S',\n",
      "       'AgeGroup_Teenager', 'AgeGroup_Young Adult', 'AgeGroup_Adult',\n",
      "       'AgeGroup_Senior'],\n",
      "      dtype='object')\n"
     ]
    }
   ],
   "source": [
    "print(dftest_cleaned.columns)\n"
   ]
  },
  {
   "cell_type": "markdown",
   "id": "21519fe4-5b07-424b-8704-2aff3797f0d5",
   "metadata": {},
   "source": [
    "### Identify the Missing and Extra Columns\n",
    "\n",
    "- Compare the one-hot encoded columns in the test dataset (dftest_cleaned) with those in the training dataset (dftraining_cleaned)."
   ]
  },
  {
   "cell_type": "markdown",
   "id": "5c07832c-9f51-4083-80a2-2a5340989375",
   "metadata": {},
   "source": [
    "#### Load the Column Names in the Test Notebook"
   ]
  },
  {
   "cell_type": "code",
   "execution_count": 71,
   "id": "3f505e83-9622-4d26-aece-d88febf2f5b5",
   "metadata": {},
   "outputs": [
    {
     "name": "stdout",
     "output_type": "stream",
     "text": [
      "Training column names loaded successfully: ['Survived', 'Pclass', 'Sex', 'SibSp', 'Parch', 'Fare', 'Title_Miss', 'Title_Mr', 'Title_Mrs', 'Title_Rare', 'Embarked_Q', 'Embarked_S', 'AgeGroup_Teenager', 'AgeGroup_Young Adult', 'AgeGroup_Adult', 'AgeGroup_Senior']\n"
     ]
    }
   ],
   "source": [
    "import joblib\n",
    "\n",
    "# Load the saved training column names\n",
    "training_columns = joblib.load('training_columns.pkl')\n",
    "print(\"Training column names loaded successfully:\", training_columns)\n"
   ]
  },
  {
   "cell_type": "markdown",
   "id": "d7a65b9d-002f-4ead-a776-49406e6dde66",
   "metadata": {},
   "source": [
    "#### Identify Missing and Extra Columns"
   ]
  },
  {
   "cell_type": "code",
   "execution_count": 75,
   "id": "54b34b92-794e-42cd-8618-9fd0a0eecd4f",
   "metadata": {},
   "outputs": [
    {
     "name": "stdout",
     "output_type": "stream",
     "text": [
      "Missing columns in the test dataset: {'Survived'}\n",
      "Extra columns in the test dataset: {'Title_Master'}\n"
     ]
    }
   ],
   "source": [
    "# Identify missing columns (present in training but not in test)\n",
    "missing_cols = set(training_columns) - set(dftest_cleaned.columns)\n",
    "print(\"Missing columns in the test dataset:\", missing_cols)\n",
    "\n",
    "# Identify extra columns (present in test but not in training)\n",
    "extra_cols = set(dftest_cleaned.columns) - set(training_columns)\n",
    "print(\"Extra columns in the test dataset:\", extra_cols)\n"
   ]
  },
  {
   "cell_type": "markdown",
   "id": "42799ca0-9f55-4645-ac64-99678cd84569",
   "metadata": {},
   "source": [
    "- Missing Column in Test Dataset: **'Survived'**\n",
    "    - This column is expected in the training data as the target variable but should not exist in the test dataset. No action is needed here since Survived is not relevant for predictions.\n",
    "\n",
    "- Extra Column in Test Dataset: **'Title_Master'**\n",
    "    - This column exists in the test dataset but not in the training dataset. We need to remove it to ensure alignment.\n"
   ]
  },
  {
   "cell_type": "markdown",
   "id": "5d0856f5-0c90-41dd-9ba7-6053a0fc5aea",
   "metadata": {},
   "source": [
    "### Handle the Extra Column (Title_Master)"
   ]
  },
  {
   "cell_type": "code",
   "execution_count": 81,
   "id": "b09646fe-8ef4-423c-a72d-2b930f916f82",
   "metadata": {},
   "outputs": [
    {
     "name": "stdout",
     "output_type": "stream",
     "text": [
      "Updated test dataset columns: Index(['Pclass', 'Sex', 'SibSp', 'Parch', 'Fare', 'Title_Miss', 'Title_Mr',\n",
      "       'Title_Mrs', 'Title_Rare', 'Embarked_Q', 'Embarked_S',\n",
      "       'AgeGroup_Teenager', 'AgeGroup_Young Adult', 'AgeGroup_Adult',\n",
      "       'AgeGroup_Senior'],\n",
      "      dtype='object')\n"
     ]
    }
   ],
   "source": [
    "# Remove the extra column 'Title_Master' from the test dataset\n",
    "dftest_cleaned.drop(columns=['Title_Master'], inplace=True)\n",
    "\n",
    "# Verify the columns after removal\n",
    "print(\"Updated test dataset columns:\", dftest_cleaned.columns)\n"
   ]
  },
  {
   "cell_type": "markdown",
   "id": "e602beb3-2f2b-42ce-bf7d-a13185813aa0",
   "metadata": {},
   "source": [
    "### Reorder the Columns\n",
    "\n",
    "The columns in the test dataset (dftest_cleaned) should be in the same order as the training dataset, excluding the 'Survived' column (which is the target variable and not part of the test dataset)."
   ]
  },
  {
   "cell_type": "code",
   "execution_count": 85,
   "id": "4eb066a6-e2aa-49e1-a2fb-4899a4c77ad8",
   "metadata": {},
   "outputs": [
    {
     "name": "stdout",
     "output_type": "stream",
     "text": [
      "Reordered test dataset columns: Index(['Pclass', 'Sex', 'SibSp', 'Parch', 'Fare', 'Title_Miss', 'Title_Mr',\n",
      "       'Title_Mrs', 'Title_Rare', 'Embarked_Q', 'Embarked_S',\n",
      "       'AgeGroup_Teenager', 'AgeGroup_Young Adult', 'AgeGroup_Adult',\n",
      "       'AgeGroup_Senior'],\n",
      "      dtype='object')\n"
     ]
    }
   ],
   "source": [
    "# Reorder the columns in the test dataset to match the training dataset (excluding 'Survived')\n",
    "dftest_cleaned = dftest_cleaned[[col for col in training_columns if col != 'Survived']]\n",
    "\n",
    "# Verify the column order\n",
    "print(\"Reordered test dataset columns:\", dftest_cleaned.columns)\n"
   ]
  },
  {
   "cell_type": "markdown",
   "id": "b7ec3dcd-6600-452a-9260-179d8c761abc",
   "metadata": {},
   "source": [
    "## Make Predictions"
   ]
  },
  {
   "cell_type": "markdown",
   "id": "254f5cd6-281d-4d93-b9cd-68ea75248a89",
   "metadata": {},
   "source": [
    "### Load the trained model\n",
    "\n",
    "(Make sure have already saved trained model (e.g., tuned_logistic_regression_model.pkl) in the same directory as notebook."
   ]
  },
  {
   "cell_type": "code",
   "execution_count": 89,
   "id": "e8a4b841-526f-48d5-9642-8c882cdde807",
   "metadata": {},
   "outputs": [
    {
     "name": "stdout",
     "output_type": "stream",
     "text": [
      "Model loaded successfully!\n"
     ]
    }
   ],
   "source": [
    "import joblib\n",
    "\n",
    "# Load the trained Logistic Regression model\n",
    "loaded_model = joblib.load('tuned_logistic_regression_model.pkl')\n",
    "\n",
    "print(\"Model loaded successfully!\")\n"
   ]
  },
  {
   "cell_type": "markdown",
   "id": "ea7d497d-437c-468d-bd21-92569f60bcb2",
   "metadata": {},
   "source": [
    "### Make Predictions on the Test Dataset\n",
    "\n",
    "Now that the model is loaded, we’ll use it to predict the Survived column for the cleaned test dataset (dftest_cleaned)."
   ]
  },
  {
   "cell_type": "code",
   "execution_count": 96,
   "id": "b26cb5f3-138f-44bd-9d62-700d87786b4f",
   "metadata": {},
   "outputs": [
    {
     "name": "stdout",
     "output_type": "stream",
     "text": [
      "Columns with missing values:\n",
      "Fare    1\n",
      "dtype: int64\n"
     ]
    }
   ],
   "source": [
    "# Check for missing values in the test dataset\n",
    "missing_values = dftest_cleaned.isnull().sum()\n",
    "print(\"Columns with missing values:\")\n",
    "print(missing_values[missing_values > 0])\n"
   ]
  },
  {
   "cell_type": "markdown",
   "id": "7360ce13-4e57-46c6-85c1-d387f6e3f96f",
   "metadata": {},
   "source": [
    "### Handle Missing Values in Fare\n",
    "\n",
    "    There was an error , Fare column has 1 missing value in test data."
   ]
  },
  {
   "cell_type": "code",
   "execution_count": 103,
   "id": "324f0857-e9eb-41dd-9ec5-bf77cf81168e",
   "metadata": {},
   "outputs": [
    {
     "name": "stdout",
     "output_type": "stream",
     "text": [
      "Missing values in the test dataset after filling:\n",
      "0\n"
     ]
    }
   ],
   "source": [
    "# Fill the missing value in the 'Fare' column with the median of the column\n",
    "dftest_cleaned['Fare'] = dftest_cleaned['Fare'].fillna(dftest_cleaned['Fare'].median())\n",
    "\n",
    "# Verify there are no more missing values\n",
    "print(\"Missing values in the test dataset after filling:\")\n",
    "print(dftest_cleaned.isnull().sum().sum())  # Should print 0\n",
    "\n"
   ]
  },
  {
   "cell_type": "markdown",
   "id": "c7958db8-441a-41a9-b98e-5efd891010fd",
   "metadata": {},
   "source": [
    "### Re-Try Prediction"
   ]
  },
  {
   "cell_type": "code",
   "execution_count": 106,
   "id": "e0df339b-967a-4b43-94cc-d03cf7c6607f",
   "metadata": {},
   "outputs": [
    {
     "name": "stdout",
     "output_type": "stream",
     "text": [
      "Predictions for the first 10 passengers in the test dataset:\n",
      "[0 1 0 0 1 0 1 0 1 0]\n"
     ]
    }
   ],
   "source": [
    "# Make predictions on the cleaned test dataset\n",
    "predictions = loaded_model.predict(dftest_cleaned)\n",
    "\n",
    "# Verify predictions\n",
    "print(\"Predictions for the first 10 passengers in the test dataset:\")\n",
    "print(predictions[:10])  # Display the first 10 predictions\n"
   ]
  },
  {
   "cell_type": "markdown",
   "id": "b22dc11b-b7f1-4c46-aadd-de3d4b738b73",
   "metadata": {},
   "source": [
    "## Submission File Creation"
   ]
  },
  {
   "cell_type": "markdown",
   "id": "a7b6c55e-4823-4f8b-808d-9a515c801431",
   "metadata": {},
   "source": [
    "**dftest_cleaned** vs. **dftest:**\n",
    "\n",
    "- The PassengerId column was dropped only from dftest_cleaned (preprocessed DataFrame).\n",
    "- The original dftest still contains the PassengerId column because it wasn’t modified.\n",
    "\n",
    "- No Need to Reload:\n",
    "- Since dftest is still in memory, there’s no need to reload the data from the file."
   ]
  },
  {
   "cell_type": "code",
   "execution_count": 110,
   "id": "f7e57481-8a91-4fe9-b30a-3b1479921e91",
   "metadata": {},
   "outputs": [
    {
     "name": "stdout",
     "output_type": "stream",
     "text": [
      "Submission file created: 'gender_submission.csv'\n"
     ]
    }
   ],
   "source": [
    "# Create the submission DataFrame using PassengerId from the original dftest\n",
    "submission = pd.DataFrame({\n",
    "    'PassengerId': dftest['PassengerId'],  # Use PassengerId from the original dftest\n",
    "    'Survived': predictions                # Use predictions from the model\n",
    "})\n",
    "\n",
    "# Save the submission file with the specified name\n",
    "submission.to_csv('gender_submission.csv', index=False)\n",
    "print(\"Submission file created: 'gender_submission.csv'\")\n"
   ]
  },
  {
   "cell_type": "markdown",
   "id": "08bf321f-43e8-40b4-bd57-182220991a9f",
   "metadata": {},
   "source": [
    "### Locate the Current Working Directory"
   ]
  },
  {
   "cell_type": "code",
   "execution_count": 113,
   "id": "0b0b5b46-6ebf-4858-8e60-7515a1231141",
   "metadata": {},
   "outputs": [
    {
     "name": "stdout",
     "output_type": "stream",
     "text": [
      "Current working directory: C:\\Users\\Pulani\n"
     ]
    }
   ],
   "source": [
    "import os\n",
    "\n",
    "# Print the current working directory\n",
    "print(\"Current working directory:\", os.getcwd())\n"
   ]
  },
  {
   "cell_type": "code",
   "execution_count": 115,
   "id": "03b34261-80dc-4e93-9208-abbac6374f3c",
   "metadata": {},
   "outputs": [],
   "source": [
    "submission.to_csv(r'C:\\Users\\Pulani\\Documents\\gender_submission.csv', index=False)\n"
   ]
  },
  {
   "cell_type": "code",
   "execution_count": null,
   "id": "cfa6e94c-4ba5-461a-a26f-f3cd2a28a0a4",
   "metadata": {},
   "outputs": [],
   "source": []
  }
 ],
 "metadata": {
  "kernelspec": {
   "display_name": "Python 3 (ipykernel)",
   "language": "python",
   "name": "python3"
  },
  "language_info": {
   "codemirror_mode": {
    "name": "ipython",
    "version": 3
   },
   "file_extension": ".py",
   "mimetype": "text/x-python",
   "name": "python",
   "nbconvert_exporter": "python",
   "pygments_lexer": "ipython3",
   "version": "3.12.4"
  }
 },
 "nbformat": 4,
 "nbformat_minor": 5
}
